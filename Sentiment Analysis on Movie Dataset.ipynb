{
 "cells": [
  {
   "cell_type": "code",
   "execution_count": 1,
   "id": "cee81945",
   "metadata": {},
   "outputs": [],
   "source": [
    "import os\n",
    "\n",
    "def load_data_from_folder(directory):\n",
    "    \"\"\"Load data and labels from given directory.\"\"\"\n",
    "    data = []\n",
    "    labels = []\n",
    "\n",
    "    # Positives\n",
    "    pos_dir = os.path.join(directory, 'pos')\n",
    "    for filename in os.listdir(pos_dir):\n",
    "        if filename.endswith('.txt'):\n",
    "            with open(os.path.join(pos_dir, filename), 'r', encoding='utf-8') as file:\n",
    "                data.append(file.read())\n",
    "                labels.append(1)  # Positive label\n",
    "\n",
    "    # Negatives\n",
    "    neg_dir = os.path.join(directory, 'neg')\n",
    "    for filename in os.listdir(neg_dir):\n",
    "        if filename.endswith('.txt'):\n",
    "            with open(os.path.join(neg_dir, filename), 'r', encoding='utf-8') as file:\n",
    "                data.append(file.read())\n",
    "                labels.append(0)  # Negative label\n",
    "\n",
    "    return data, labels\n",
    "\n",
    "# Load training and testing data\n",
    "train_data, train_labels = load_data_from_folder('/home/rgukt/Downloads/aclImdb/train')\n",
    "test_data, test_labels = load_data_from_folder('/home/rgukt/Downloads/aclImdb/test')\n"
   ]
  },
  {
   "cell_type": "code",
   "execution_count": 2,
   "id": "a9d87fc6",
   "metadata": {},
   "outputs": [],
   "source": [
    "import re\n",
    "from nltk.corpus import stopwords\n",
    "from nltk.stem import WordNetLemmatizer\n",
    "\n",
    "# Load stopwords list only once\n",
    "stop_words = set(stopwords.words('english'))\n",
    "\n",
    "def preprocess_text(text, stop_words):\n",
    "    # Lowercasing and non-alphabet removal\n",
    "    text = re.sub(\"[^a-zA-Z]\", \" \", text).lower()\n",
    "    words = text.split()\n",
    "    \n",
    "    # Stopwords and lemmatization\n",
    "    lemmatizer = WordNetLemmatizer()\n",
    "    cleaned_text = [lemmatizer.lemmatize(word) for word in words if word not in stop_words]\n",
    "    \n",
    "    return \" \".join(cleaned_text)\n",
    "\n",
    "# Apply preprocessing to text data\n",
    "train_data = [preprocess_text(doc, stop_words) for doc in train_data]\n",
    "test_data = [preprocess_text(doc, stop_words) for doc in test_data]\n"
   ]
  },
  {
   "cell_type": "code",
   "execution_count": 3,
   "id": "9b2c717d",
   "metadata": {},
   "outputs": [],
   "source": [
    "from sklearn.feature_extraction.text import CountVectorizer\n",
    "\n",
    "vectorizer = CountVectorizer(max_features=1000)\n",
    "X_train = vectorizer.fit_transform(train_data)\n",
    "X_test = vectorizer.transform(test_data)\n",
    "\n",
    "y_train = train_labels\n",
    "y_test = test_labels\n"
   ]
  },
  {
   "cell_type": "code",
   "execution_count": 4,
   "id": "b3d07117",
   "metadata": {},
   "outputs": [
    {
     "data": {
      "text/html": [
       "<style>#sk-container-id-1 {color: black;background-color: white;}#sk-container-id-1 pre{padding: 0;}#sk-container-id-1 div.sk-toggleable {background-color: white;}#sk-container-id-1 label.sk-toggleable__label {cursor: pointer;display: block;width: 100%;margin-bottom: 0;padding: 0.3em;box-sizing: border-box;text-align: center;}#sk-container-id-1 label.sk-toggleable__label-arrow:before {content: \"▸\";float: left;margin-right: 0.25em;color: #696969;}#sk-container-id-1 label.sk-toggleable__label-arrow:hover:before {color: black;}#sk-container-id-1 div.sk-estimator:hover label.sk-toggleable__label-arrow:before {color: black;}#sk-container-id-1 div.sk-toggleable__content {max-height: 0;max-width: 0;overflow: hidden;text-align: left;background-color: #f0f8ff;}#sk-container-id-1 div.sk-toggleable__content pre {margin: 0.2em;color: black;border-radius: 0.25em;background-color: #f0f8ff;}#sk-container-id-1 input.sk-toggleable__control:checked~div.sk-toggleable__content {max-height: 200px;max-width: 100%;overflow: auto;}#sk-container-id-1 input.sk-toggleable__control:checked~label.sk-toggleable__label-arrow:before {content: \"▾\";}#sk-container-id-1 div.sk-estimator input.sk-toggleable__control:checked~label.sk-toggleable__label {background-color: #d4ebff;}#sk-container-id-1 div.sk-label input.sk-toggleable__control:checked~label.sk-toggleable__label {background-color: #d4ebff;}#sk-container-id-1 input.sk-hidden--visually {border: 0;clip: rect(1px 1px 1px 1px);clip: rect(1px, 1px, 1px, 1px);height: 1px;margin: -1px;overflow: hidden;padding: 0;position: absolute;width: 1px;}#sk-container-id-1 div.sk-estimator {font-family: monospace;background-color: #f0f8ff;border: 1px dotted black;border-radius: 0.25em;box-sizing: border-box;margin-bottom: 0.5em;}#sk-container-id-1 div.sk-estimator:hover {background-color: #d4ebff;}#sk-container-id-1 div.sk-parallel-item::after {content: \"\";width: 100%;border-bottom: 1px solid gray;flex-grow: 1;}#sk-container-id-1 div.sk-label:hover label.sk-toggleable__label {background-color: #d4ebff;}#sk-container-id-1 div.sk-serial::before {content: \"\";position: absolute;border-left: 1px solid gray;box-sizing: border-box;top: 0;bottom: 0;left: 50%;z-index: 0;}#sk-container-id-1 div.sk-serial {display: flex;flex-direction: column;align-items: center;background-color: white;padding-right: 0.2em;padding-left: 0.2em;position: relative;}#sk-container-id-1 div.sk-item {position: relative;z-index: 1;}#sk-container-id-1 div.sk-parallel {display: flex;align-items: stretch;justify-content: center;background-color: white;position: relative;}#sk-container-id-1 div.sk-item::before, #sk-container-id-1 div.sk-parallel-item::before {content: \"\";position: absolute;border-left: 1px solid gray;box-sizing: border-box;top: 0;bottom: 0;left: 50%;z-index: -1;}#sk-container-id-1 div.sk-parallel-item {display: flex;flex-direction: column;z-index: 1;position: relative;background-color: white;}#sk-container-id-1 div.sk-parallel-item:first-child::after {align-self: flex-end;width: 50%;}#sk-container-id-1 div.sk-parallel-item:last-child::after {align-self: flex-start;width: 50%;}#sk-container-id-1 div.sk-parallel-item:only-child::after {width: 0;}#sk-container-id-1 div.sk-dashed-wrapped {border: 1px dashed gray;margin: 0 0.4em 0.5em 0.4em;box-sizing: border-box;padding-bottom: 0.4em;background-color: white;}#sk-container-id-1 div.sk-label label {font-family: monospace;font-weight: bold;display: inline-block;line-height: 1.2em;}#sk-container-id-1 div.sk-label-container {text-align: center;}#sk-container-id-1 div.sk-container {/* jupyter's `normalize.less` sets `[hidden] { display: none; }` but bootstrap.min.css set `[hidden] { display: none !important; }` so we also need the `!important` here to be able to override the default hidden behavior on the sphinx rendered scikit-learn.org. See: https://github.com/scikit-learn/scikit-learn/issues/21755 */display: inline-block !important;position: relative;}#sk-container-id-1 div.sk-text-repr-fallback {display: none;}</style><div id=\"sk-container-id-1\" class=\"sk-top-container\"><div class=\"sk-text-repr-fallback\"><pre>LogisticRegression(max_iter=1000)</pre><b>In a Jupyter environment, please rerun this cell to show the HTML representation or trust the notebook. <br />On GitHub, the HTML representation is unable to render, please try loading this page with nbviewer.org.</b></div><div class=\"sk-container\" hidden><div class=\"sk-item\"><div class=\"sk-estimator sk-toggleable\"><input class=\"sk-toggleable__control sk-hidden--visually\" id=\"sk-estimator-id-1\" type=\"checkbox\" checked><label for=\"sk-estimator-id-1\" class=\"sk-toggleable__label sk-toggleable__label-arrow\">LogisticRegression</label><div class=\"sk-toggleable__content\"><pre>LogisticRegression(max_iter=1000)</pre></div></div></div></div></div>"
      ],
      "text/plain": [
       "LogisticRegression(max_iter=1000)"
      ]
     },
     "execution_count": 4,
     "metadata": {},
     "output_type": "execute_result"
    }
   ],
   "source": [
    "from sklearn.linear_model import LogisticRegression\n",
    "\n",
    "model = LogisticRegression(max_iter=1000)\n",
    "model.fit(X_train, y_train)\n"
   ]
  },
  {
   "cell_type": "code",
   "execution_count": 5,
   "id": "8339d107",
   "metadata": {},
   "outputs": [
    {
     "name": "stdout",
     "output_type": "stream",
     "text": [
      "Accuracy: 0.85712\n",
      "Classification Report:\n",
      "               precision    recall  f1-score   support\n",
      "\n",
      "           0       0.86      0.85      0.86     12500\n",
      "           1       0.85      0.87      0.86     12500\n",
      "\n",
      "    accuracy                           0.86     25000\n",
      "   macro avg       0.86      0.86      0.86     25000\n",
      "weighted avg       0.86      0.86      0.86     25000\n",
      "\n"
     ]
    }
   ],
   "source": [
    "from sklearn.metrics import accuracy_score, classification_report\n",
    "\n",
    "y_pred = model.predict(X_test)\n",
    "print(\"Accuracy:\", accuracy_score(y_test, y_pred))\n",
    "print(\"Classification Report:\\n\", classification_report(y_test, y_pred))\n"
   ]
  },
  {
   "cell_type": "code",
   "execution_count": 7,
   "id": "48690b00",
   "metadata": {},
   "outputs": [],
   "source": [
    "def load_unsupervised_data(directory):\n",
    "    data = []\n",
    "    for filename in os.listdir(directory):\n",
    "        if filename.endswith('.txt'):\n",
    "            with open(os.path.join(directory, filename), 'r', encoding='utf-8') as file:\n",
    "                data.append(file.read())\n",
    "    return data\n",
    "\n",
    "unsupervised_data = load_unsupervised_data('/home/rgukt/Downloads/aclImdb/train/unsup')\n",
    "unsupervised_data = [preprocess_text(text,stop_words) for text in unsupervised_data]\n",
    "unsupervised_features = vectorizer.transform(unsupervised_data)\n",
    "unsupervised_predictions = model.predict(unsupervised_features)\n"
   ]
  },
  {
   "cell_type": "code",
   "execution_count": 8,
   "id": "113f7f3c",
   "metadata": {},
   "outputs": [
    {
     "name": "stdout",
     "output_type": "stream",
     "text": [
      "Positive Reviews: 25304\n",
      "Negative Reviews: 24696\n",
      "Neutral Reviews: 0\n"
     ]
    }
   ],
   "source": [
    "# Assuming model.predict_proba() returns probabilities for positive class\n",
    "\n",
    "# Set threshold for classification\n",
    "threshold = 0.5\n",
    "\n",
    "# Make predictions on unsupervised data\n",
    "unsupervised_probabilities = model.predict_proba(unsupervised_features)\n",
    "\n",
    "# Classify reviews into \"positive\", \"negative\", and \"neutral\"\n",
    "classified_reviews = []\n",
    "for prob in unsupervised_probabilities:\n",
    "    if prob[1] > threshold:\n",
    "        classified_reviews.append(\"positive\")\n",
    "    elif prob[1] < 1 - threshold:\n",
    "        classified_reviews.append(\"negative\")\n",
    "    else:\n",
    "        classified_reviews.append(\"neutral\")\n",
    "\n",
    "# Print the number of reviews in each category\n",
    "print(\"Positive Reviews:\", classified_reviews.count(\"positive\"))\n",
    "print(\"Negative Reviews:\", classified_reviews.count(\"negative\"))\n",
    "print(\"Neutral Reviews:\", classified_reviews.count(\"neutral\"))\n"
   ]
  },
  {
   "cell_type": "code",
   "execution_count": 12,
   "id": "a9282b4e",
   "metadata": {},
   "outputs": [
    {
     "name": "stdout",
     "output_type": "stream",
     "text": [
      "Review: This movie was amazing! I loved every minute of it.\n",
      "Classification: positive\n",
      "\n",
      "Review: Terrible movie. Waste of time and money.\n",
      "Classification: negative\n",
      "\n",
      "Review: The movie was okay. Not great, but not terrible either.\n",
      "Classification: negative\n",
      "\n"
     ]
    }
   ],
   "source": [
    "def classify_review(review, stop_words):\n",
    "    # Preprocess the review\n",
    "    preprocessed_review = preprocess_text(review, stop_words)\n",
    "    \n",
    "    # Transform the preprocessed review into features\n",
    "    review_features = vectorizer.transform([preprocessed_review])\n",
    "    \n",
    "    # Predict the probability of the review being positive\n",
    "    probability_positive = model.predict_proba(review_features)[0][1]\n",
    "    \n",
    "    # Set threshold for classification\n",
    "    threshold = 0.5\n",
    "    \n",
    "    # Classify the review\n",
    "    if probability_positive > threshold:\n",
    "        return \"positive\"\n",
    "    elif probability_positive < 1 - threshold:\n",
    "        return \"negative\"\n",
    "    else:\n",
    "        return \"neutral\"\n",
    "\n",
    "# Test inputted reviews\n",
    "reviews = [\n",
    "    \"This movie was amazing! I loved every minute of it.\",\n",
    "    \"Terrible movie. Waste of time and money.\",\n",
    "    \"The movie was okay. Not great, but not terrible either.\"\n",
    "]\n",
    "\n",
    "for review in reviews:\n",
    "    classification = classify_review(review, stop_words)\n",
    "    print(f\"Review: {review}\\nClassification: {classification}\\n\")\n"
   ]
  },
  {
   "cell_type": "code",
   "execution_count": null,
   "id": "35b44ef7",
   "metadata": {},
   "outputs": [],
   "source": []
  }
 ],
 "metadata": {
  "kernelspec": {
   "display_name": "Python 3 (ipykernel)",
   "language": "python",
   "name": "python3"
  },
  "language_info": {
   "codemirror_mode": {
    "name": "ipython",
    "version": 3
   },
   "file_extension": ".py",
   "mimetype": "text/x-python",
   "name": "python",
   "nbconvert_exporter": "python",
   "pygments_lexer": "ipython3",
   "version": "3.8.10"
  }
 },
 "nbformat": 4,
 "nbformat_minor": 5
}
